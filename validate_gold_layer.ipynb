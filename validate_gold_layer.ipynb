{
 "cells": [
  {
   "cell_type": "code",
   "execution_count": 0,
   "metadata": {
    "application/vnd.databricks.v1+cell": {
     "cellMetadata": {
      "byteLimit": 2048000,
      "rowLimit": 10000
     },
     "inputWidgets": {},
     "nuid": "19fb31d1-a3c6-4079-b71b-827688fa7c46",
     "showTitle": false,
     "tableResultSettingsMap": {},
     "title": ""
    }
   },
   "outputs": [],
   "source": [
    "-- Example: Gold Table Validation\n",
    "USE CATALOG workspace;\n",
    "USE SCHEMA gold;\n",
    "\n",
    "-- Check for NULLs in important fields\n",
    "SELECT 'dim_customers' AS table, COUNT(*) AS issues\n",
    "FROM dim_customers\n",
    "WHERE customer_number IS NULL OR first_name IS NULL OR country IS NULL\n",
    "\n",
    "UNION ALL\n",
    "\n",
    "SELECT 'dim_products', COUNT(*)\n",
    "FROM dim_products\n",
    "WHERE product_number IS NULL OR category IS NULL\n",
    "\n",
    "UNION ALL\n",
    "\n",
    "SELECT 'fact_sales', COUNT(*)\n",
    "FROM fact_sales\n",
    "WHERE order_number IS NULL OR product_key IS NULL OR customer_key IS NULL;"
   ]
  }
 ],
 "metadata": {
  "application/vnd.databricks.v1+notebook": {
   "computePreferences": null,
   "dashboards": [],
   "environmentMetadata": {
    "base_environment": "",
    "environment_version": "2"
   },
   "inputWidgetPreferences": null,
   "language": "sql",
   "notebookMetadata": {
    "pythonIndentUnit": 4
   },
   "notebookName": "validate_gold_layer",
   "widgets": {}
  },
  "language_info": {
   "name": "sql"
  }
 },
 "nbformat": 4,
 "nbformat_minor": 0
}
