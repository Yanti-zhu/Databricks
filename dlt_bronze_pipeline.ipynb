{
 "cells": [
  {
   "cell_type": "code",
   "execution_count": 0,
   "metadata": {
    "application/vnd.databricks.v1+cell": {
     "cellMetadata": {
      "byteLimit": 2048000,
      "rowLimit": 10000
     },
     "inputWidgets": {},
     "nuid": "55f22224-5687-4b8f-ae37-440c8983dbb5",
     "showTitle": false,
     "tableResultSettingsMap": {},
     "title": ""
    }
   },
   "outputs": [],
   "source": [
    "\n",
    "import dlt\n",
    "from pyspark.sql.functions import col\n",
    "\n",
    "# ------------------------------\n",
    "# CRM Bronze Tables\n",
    "# ------------------------------\n",
    "\n",
    "@dlt.table(\n",
    "  name=\"bronze_crm_cust_info\",\n",
    "  comment=\"Bronze table for CRM customer info\"\n",
    ")\n",
    "def bronze_crm_cust_info():\n",
    "    return (\n",
    "        spark.read.format(\"csv\")\n",
    "        .option(\"header\", True)\n",
    "        .option(\"inferSchema\", True)\n",
    "        .load(\"/Volumes/workspace/project/source_crm/cust_info.csv\")\n",
    "    )\n",
    "\n",
    "@dlt.table(\n",
    "  name=\"bronze_crm_prd_info\",\n",
    "  comment=\"Bronze table for CRM product info\"\n",
    ")\n",
    "def bronze_crm_prd_info():\n",
    "    return (\n",
    "        spark.read.format(\"csv\")\n",
    "        .option(\"header\", True)\n",
    "        .option(\"inferSchema\", True)\n",
    "        .load(\"/Volumes/workspace/project/source_crm/prd_info.csv\")\n",
    "    )\n",
    "\n",
    "@dlt.table(\n",
    "  name=\"bronze_crm_sales_details\",\n",
    "  comment=\"Bronze table for CRM sales details\"\n",
    ")\n",
    "def bronze_crm_sales_details():\n",
    "    return (\n",
    "        spark.read.format(\"csv\")\n",
    "        .option(\"header\", True)\n",
    "        .option(\"inferSchema\", True)\n",
    "        .load(\"/Volumes/workspace/project/source_crm/sales_details.csv\")\n",
    "    )\n",
    "\n",
    "# ------------------------------\n",
    "# ERP Bronze Tables\n",
    "# ------------------------------\n",
    "\n",
    "@dlt.table(\n",
    "  name=\"bronze_erp_cust_az12\",\n",
    "  comment=\"Bronze table for ERP cust az12\"\n",
    ")\n",
    "def bronze_erp_cust_az12():\n",
    "    return (\n",
    "        spark.read.format(\"csv\")\n",
    "        .option(\"header\", True)\n",
    "        .option(\"inferSchema\", True)\n",
    "        .load(\"/Volumes/workspace/project/source_erp/CUST_AZ12.csv\")\n",
    "    )\n",
    "\n",
    "@dlt.table(\n",
    "  name=\"bronze_erp_loc_a101\",\n",
    "  comment=\"Bronze table for ERP location info\"\n",
    ")\n",
    "def bronze_erp_loc_a101():\n",
    "    return (\n",
    "        spark.read.format(\"csv\")\n",
    "        .option(\"header\", True)\n",
    "        .option(\"inferSchema\", True)\n",
    "        .load(\"/Volumes/workspace/project/source_erp/LOC_A101.csv\")\n",
    "    )\n",
    "\n",
    "@dlt.table(\n",
    "  name=\"bronze_erp_px_cat_g1v2\",\n",
    "  comment=\"Bronze table for ERP product category info\"\n",
    ")\n",
    "def bronze_erp_px_cat_g1v2():\n",
    "    return (\n",
    "        spark.read.format(\"csv\")\n",
    "        .option(\"header\", True)\n",
    "        .option(\"inferSchema\", True)\n",
    "        .load(\"/Volumes/workspace/project/source_erp/PX_CAT_G1V2.csv\")\n",
    "    )"
   ]
  }
 ],
 "metadata": {
  "application/vnd.databricks.v1+notebook": {
   "computePreferences": null,
   "dashboards": [],
   "environmentMetadata": {
    "base_environment": "",
    "environment_version": "2"
   },
   "inputWidgetPreferences": null,
   "language": "python",
   "notebookMetadata": {
    "pythonIndentUnit": 4
   },
   "notebookName": "dlt_bronze_pipeline",
   "widgets": {}
  },
  "language_info": {
   "name": "python"
  }
 },
 "nbformat": 4,
 "nbformat_minor": 0
}
