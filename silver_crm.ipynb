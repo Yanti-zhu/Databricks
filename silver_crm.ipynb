{
 "cells": [
  {
   "cell_type": "code",
   "execution_count": 0,
   "metadata": {
    "application/vnd.databricks.v1+cell": {
     "cellMetadata": {
      "byteLimit": 2048000,
      "rowLimit": 10000
     },
     "inputWidgets": {},
     "nuid": "5ca9f43e-9bc3-47ea-894a-5295fc36860b",
     "showTitle": false,
     "tableResultSettingsMap": {},
     "title": ""
    }
   },
   "outputs": [],
   "source": [
    "%sql\n",
    "CREATE SCHEMA IF NOT EXISTS silver_crm;\n",
    "CREATE SCHEMA IF NOT EXISTS silver_erp;"
   ]
  },
  {
   "cell_type": "code",
   "execution_count": 0,
   "metadata": {
    "application/vnd.databricks.v1+cell": {
     "cellMetadata": {
      "byteLimit": 2048000,
      "rowLimit": 10000
     },
     "inputWidgets": {},
     "nuid": "c966fc7e-3b34-430c-ab72-708d7b9a3728",
     "showTitle": false,
     "tableResultSettingsMap": {},
     "title": ""
    }
   },
   "outputs": [],
   "source": [
    "%sql\n",
    "CREATE TABLE IF NOT EXISTS silver_crm.silver_crm_cust_info (\n",
    "  cst_id INT,\n",
    "  cst_key STRING,\n",
    "  cst_firstname STRING,\n",
    "  cst_lastname STRING,\n",
    "  cst_marital_status STRING,\n",
    "  cst_gndr STRING,\n",
    "  cst_create_date DATE\n",
    ");"
   ]
  },
  {
   "cell_type": "code",
   "execution_count": 0,
   "metadata": {
    "application/vnd.databricks.v1+cell": {
     "cellMetadata": {
      "byteLimit": 2048000,
      "rowLimit": 10000
     },
     "inputWidgets": {},
     "nuid": "8dc9b6fc-f3fa-4426-8b5c-d7a55b345e5d",
     "showTitle": false,
     "tableResultSettingsMap": {},
     "title": ""
    }
   },
   "outputs": [],
   "source": [
    "%sql\n",
    "INSERT INTO silver_crm.silver_crm_cust_info (\n",
    "  cst_id,\n",
    "  cst_key,\n",
    "  cst_firstname,\n",
    "  cst_lastname,\n",
    "  cst_marital_status,\n",
    "  cst_gndr,\n",
    "  cst_create_date\n",
    ")\n",
    "SELECT\n",
    "  cst_id,\n",
    "  cst_key,\n",
    "  TRIM(cst_firstname) AS cst_firstname,\n",
    "  TRIM(cst_lastname) AS cst_lastname,\n",
    "  CASE \n",
    "    WHEN UPPER(TRIM(cst_marital_status)) = 'S' THEN 'Single'\n",
    "    WHEN UPPER(TRIM(cst_marital_status)) = 'M' THEN 'Married'\n",
    "    ELSE 'n/a'\n",
    "  END AS cst_marital_status,\n",
    "  CASE \n",
    "    WHEN UPPER(TRIM(cst_gndr)) = 'F' THEN 'Female'\n",
    "    WHEN UPPER(TRIM(cst_gndr)) = 'M' THEN 'Male'\n",
    "    ELSE 'n/a'\n",
    "  END AS cst_gndr,\n",
    "  cst_create_date\n",
    "FROM (\n",
    "  SELECT *,\n",
    "         ROW_NUMBER() OVER (PARTITION BY cst_id ORDER BY cst_create_date DESC) AS flag_last\n",
    "  FROM bronze_crm.bronze_cust_info\n",
    "  WHERE cst_id IS NOT NULL\n",
    ") t\n",
    "WHERE flag_last = 1;\n"
   ]
  },
  {
   "cell_type": "code",
   "execution_count": 0,
   "metadata": {
    "application/vnd.databricks.v1+cell": {
     "cellMetadata": {
      "byteLimit": 2048000,
      "rowLimit": 10000
     },
     "inputWidgets": {},
     "nuid": "2c673fff-3988-449f-8e40-510f02ee579c",
     "showTitle": false,
     "tableResultSettingsMap": {},
     "title": ""
    }
   },
   "outputs": [],
   "source": [
    "%sql\n",
    "SELECT COUNT(*) FROM silver_crm.silver_crm_cust_info;\n",
    "SELECT * FROM silver_crm.silver_crm_cust_info LIMIT 10;"
   ]
  },
  {
   "cell_type": "code",
   "execution_count": 0,
   "metadata": {
    "application/vnd.databricks.v1+cell": {
     "cellMetadata": {
      "byteLimit": 2048000,
      "rowLimit": 10000
     },
     "inputWidgets": {},
     "nuid": "6e135758-31b7-4b64-88ca-c95312374f1a",
     "showTitle": false,
     "tableResultSettingsMap": {},
     "title": ""
    }
   },
   "outputs": [],
   "source": [
    "%sql\n",
    "CREATE TABLE IF NOT EXISTS silver_crm.silver_crm_prd_info (\n",
    "  prd_id INT,\n",
    "  cat_id STRING,\n",
    "  prd_key STRING,\n",
    "  prd_nm STRING,\n",
    "  prd_cost INT,\n",
    "  prd_line STRING,\n",
    "  prd_start_dt DATE,\n",
    "  prd_end_dt DATE\n",
    ");"
   ]
  },
  {
   "cell_type": "code",
   "execution_count": 0,
   "metadata": {
    "application/vnd.databricks.v1+cell": {
     "cellMetadata": {
      "byteLimit": 2048000,
      "rowLimit": 10000
     },
     "inputWidgets": {},
     "nuid": "bee11dfc-867d-46be-8e5c-66aafd734d3e",
     "showTitle": false,
     "tableResultSettingsMap": {},
     "title": ""
    }
   },
   "outputs": [],
   "source": [
    "%sql\n",
    "INSERT INTO silver_crm.silver_crm_prd_info (\n",
    "  prd_id,\n",
    "  cat_id,\n",
    "  prd_key,\n",
    "  prd_nm,\n",
    "  prd_cost,\n",
    "  prd_line,\n",
    "  prd_start_dt,\n",
    "  prd_end_dt\n",
    ")\n",
    "SELECT\n",
    "  prd_id,\n",
    "  REPLACE(SUBSTRING(prd_key, 1, 5), '-', '_') AS cat_id,\n",
    "  SUBSTRING(prd_key, 7, LENGTH(prd_key)) AS prd_key,\n",
    "  prd_nm,\n",
    "  COALESCE(prd_cost, 0) AS prd_cost,\n",
    "  CASE UPPER(TRIM(prd_line))\n",
    "    WHEN 'M' THEN 'Mountain'\n",
    "    WHEN 'R' THEN 'Road'\n",
    "    WHEN 'S' THEN 'Other Sales'\n",
    "    WHEN 'T' THEN 'Touring'\n",
    "    ELSE 'n/a'\n",
    "  END AS prd_line,\n",
    "  CAST(prd_start_dt AS DATE) AS prd_start_dt,\n",
    "  NULL AS prd_end_dt  -- Temporarily hardcoded\n",
    "FROM workspace.bronze_crm.bronze_prd_info;"
   ]
  },
  {
   "cell_type": "code",
   "execution_count": 0,
   "metadata": {
    "application/vnd.databricks.v1+cell": {
     "cellMetadata": {
      "byteLimit": 2048000,
      "rowLimit": 10000
     },
     "inputWidgets": {},
     "nuid": "edca909d-d5b1-4213-a25b-cae27a145839",
     "showTitle": false,
     "tableResultSettingsMap": {},
     "title": ""
    }
   },
   "outputs": [],
   "source": [
    "%sql\n",
    "SELECT COUNT(*) FROM silver_crm.silver_crm_prd_info;\n",
    "SELECT * FROM silver_crm.silver_crm_prd_info LIMIT 10;"
   ]
  },
  {
   "cell_type": "code",
   "execution_count": 0,
   "metadata": {
    "application/vnd.databricks.v1+cell": {
     "cellMetadata": {
      "byteLimit": 2048000,
      "rowLimit": 10000
     },
     "inputWidgets": {},
     "nuid": "c1151a26-b67b-440c-a777-69d2875674b9",
     "showTitle": false,
     "tableResultSettingsMap": {},
     "title": ""
    }
   },
   "outputs": [],
   "source": [
    "%sql\n",
    "CREATE TABLE IF NOT EXISTS silver_crm.silver_crm_sales_details (\n",
    "  sls_ord_num STRING,\n",
    "  sls_prd_key STRING,\n",
    "  sls_cust_id INT,\n",
    "  sls_order_dt DATE,\n",
    "  sls_ship_dt DATE,\n",
    "  sls_due_dt DATE,\n",
    "  sls_sales INT,\n",
    "  sls_quantity INT,\n",
    "  sls_price INT\n",
    ");"
   ]
  },
  {
   "cell_type": "code",
   "execution_count": 0,
   "metadata": {
    "application/vnd.databricks.v1+cell": {
     "cellMetadata": {
      "byteLimit": 2048000,
      "rowLimit": 10000
     },
     "inputWidgets": {},
     "nuid": "8d567783-f181-49a3-b609-5653267e7166",
     "showTitle": false,
     "tableResultSettingsMap": {},
     "title": ""
    }
   },
   "outputs": [],
   "source": [
    "%sql\n",
    "INSERT INTO silver_crm.silver_crm_sales_details (\n",
    "  sls_ord_num,\n",
    "  sls_prd_key,\n",
    "  sls_cust_id,\n",
    "  sls_order_dt,\n",
    "  sls_ship_dt,\n",
    "  sls_due_dt,\n",
    "  sls_sales,\n",
    "  sls_quantity,\n",
    "  sls_price\n",
    ")\n",
    "SELECT\n",
    "  sls_ord_num,\n",
    "  sls_prd_key,\n",
    "  sls_cust_id,\n",
    "\n",
    "  -- Order date cleansing\n",
    "  CASE \n",
    "    WHEN sls_order_dt = 0 OR LENGTH(CAST(sls_order_dt AS STRING)) != 8 THEN NULL\n",
    "    ELSE TO_DATE(CAST(sls_order_dt AS STRING), 'yyyyMMdd')\n",
    "  END AS sls_order_dt,\n",
    "\n",
    "  -- Ship date cleansing\n",
    "  CASE \n",
    "    WHEN sls_ship_dt = 0 OR LENGTH(CAST(sls_ship_dt AS STRING)) != 8 THEN NULL\n",
    "    ELSE TO_DATE(CAST(sls_ship_dt AS STRING), 'yyyyMMdd')\n",
    "  END AS sls_ship_dt,\n",
    "\n",
    "  -- Due date cleansing\n",
    "  CASE \n",
    "    WHEN sls_due_dt = 0 OR LENGTH(CAST(sls_due_dt AS STRING)) != 8 THEN NULL\n",
    "    ELSE TO_DATE(CAST(sls_due_dt AS STRING), 'yyyyMMdd')\n",
    "  END AS sls_due_dt,\n",
    "\n",
    "  -- Sales validation\n",
    "  CASE \n",
    "    WHEN sls_sales IS NULL OR sls_sales <= 0 OR sls_sales != sls_quantity * ABS(sls_price)\n",
    "      THEN sls_quantity * ABS(sls_price)\n",
    "    ELSE sls_sales\n",
    "  END AS sls_sales,\n",
    "\n",
    "  sls_quantity,\n",
    "\n",
    "  -- Price fix\n",
    "  CASE \n",
    "    WHEN sls_price IS NULL OR sls_price <= 0 THEN \n",
    "      CASE WHEN sls_quantity = 0 THEN NULL ELSE sls_sales DIV sls_quantity END\n",
    "    ELSE sls_price\n",
    "  END AS sls_price\n",
    "\n",
    "FROM workspace.bronze_crm.bronze_sales_details;"
   ]
  },
  {
   "cell_type": "code",
   "execution_count": 0,
   "metadata": {
    "application/vnd.databricks.v1+cell": {
     "cellMetadata": {
      "byteLimit": 2048000,
      "rowLimit": 10000
     },
     "inputWidgets": {},
     "nuid": "506f10ac-0e76-4f91-83ee-1741f439652b",
     "showTitle": false,
     "tableResultSettingsMap": {},
     "title": ""
    }
   },
   "outputs": [],
   "source": [
    "%sql\n",
    "SELECT COUNT(*) FROM silver_crm.silver_crm_sales_details;\n",
    "SELECT * FROM silver_crm.silver_crm_sales_details LIMIT 10;"
   ]
  }
 ],
 "metadata": {
  "application/vnd.databricks.v1+notebook": {
   "computePreferences": null,
   "dashboards": [],
   "environmentMetadata": {
    "base_environment": "",
    "environment_version": "2"
   },
   "inputWidgetPreferences": null,
   "language": "sql",
   "notebookMetadata": {
    "pythonIndentUnit": 4
   },
   "notebookName": "silver_crm",
   "widgets": {}
  },
  "language_info": {
   "name": "sql"
  }
 },
 "nbformat": 4,
 "nbformat_minor": 0
}
