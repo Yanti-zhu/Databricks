{
 "cells": [
  {
   "cell_type": "code",
   "execution_count": 0,
   "metadata": {
    "application/vnd.databricks.v1+cell": {
     "cellMetadata": {
      "byteLimit": 2048000,
      "rowLimit": 10000
     },
     "inputWidgets": {},
     "nuid": "936dc213-8c5f-4f5e-aa04-d28607874ef0",
     "showTitle": false,
     "tableResultSettingsMap": {},
     "title": ""
    }
   },
   "outputs": [],
   "source": [
    "%sql\n",
    "CREATE SCHEMA IF NOT EXISTS bronze_crm;\n",
    "CREATE SCHEMA IF NOT EXISTS bronze_erp;"
   ]
  },
  {
   "cell_type": "code",
   "execution_count": 0,
   "metadata": {
    "application/vnd.databricks.v1+cell": {
     "cellMetadata": {
      "byteLimit": 2048000,
      "rowLimit": 10000
     },
     "inputWidgets": {},
     "nuid": "16c95eba-38df-43d6-88e5-154d708bb829",
     "showTitle": false,
     "tableResultSettingsMap": {},
     "title": ""
    }
   },
   "outputs": [],
   "source": [
    "DROP TABLE IF EXISTS bronze_crm.bronze_crm_cust_info;"
   ]
  },
  {
   "cell_type": "code",
   "execution_count": 0,
   "metadata": {
    "application/vnd.databricks.v1+cell": {
     "cellMetadata": {
      "byteLimit": 2048000,
      "rowLimit": 10000
     },
     "inputWidgets": {},
     "nuid": "209250e2-fa3a-4ebd-9bbe-d2f42a55dbd6",
     "showTitle": false,
     "tableResultSettingsMap": {},
     "title": ""
    }
   },
   "outputs": [],
   "source": [
    "%python\n",
    "# Create schemas if needed\n",
    "spark.sql(\"CREATE SCHEMA IF NOT EXISTS bronze_crm\")\n",
    "spark.sql(\"CREATE SCHEMA IF NOT EXISTS bronze_erp\")\n",
    "\n",
    "# --------------------\n",
    "# CRM Source Files\n",
    "# --------------------\n",
    "\n",
    "df_cust_info = (\n",
    "    spark.read.option(\"header\", True).option(\"inferSchema\", True)\n",
    "    .csv(\"/Volumes/workspace/project/source_crm/cust_info.csv\")\n",
    ")\n",
    "df_cust_info.write.format(\"delta\").mode(\"overwrite\").saveAsTable(\"bronze_crm.bronze_cust_info\")\n",
    "\n",
    "df_prd_info = (\n",
    "    spark.read.option(\"header\", True).option(\"inferSchema\", True)\n",
    "    .csv(\"/Volumes/workspace/project/source_crm/prd_info.csv\")\n",
    ")\n",
    "df_prd_info.write.format(\"delta\").mode(\"overwrite\").saveAsTable(\"bronze_crm.bronze_prd_info\")\n",
    "\n",
    "df_sales_details = (\n",
    "    spark.read.option(\"header\", True).option(\"inferSchema\", True)\n",
    "    .csv(\"/Volumes/workspace/project/source_crm/sales_details.csv\")\n",
    ")\n",
    "df_sales_details.write.format(\"delta\").mode(\"overwrite\").saveAsTable(\"bronze_crm.bronze_sales_details\")\n",
    "\n",
    "# --------------------\n",
    "# ERP Source Files (case-sensitive names!)\n",
    "# --------------------\n",
    "\n",
    "df_cust_erp = (\n",
    "    spark.read.option(\"header\", True).option(\"inferSchema\", True)\n",
    "    .csv(\"/Volumes/workspace/project/source_erp/CUST_AZ12.csv\")\n",
    ")\n",
    "df_cust_erp.write.format(\"delta\").mode(\"overwrite\").saveAsTable(\"bronze_erp.bronze_cust_az12\")\n",
    "\n",
    "df_loc_101 = (\n",
    "    spark.read.option(\"header\", True).option(\"inferSchema\", True)\n",
    "    .csv(\"/Volumes/workspace/project/source_erp/LOC_A101.csv\")\n",
    ")\n",
    "df_loc_101.write.format(\"delta\").mode(\"overwrite\").saveAsTable(\"bronze_erp.bronze_loc_a101\")\n",
    "\n",
    "df_px_cat = (\n",
    "    spark.read.option(\"header\", True).option(\"inferSchema\", True)\n",
    "    .csv(\"/Volumes/workspace/project/source_erp/PX_CAT_G1V2.csv\")\n",
    ")\n",
    "df_px_cat.write.format(\"delta\").mode(\"overwrite\").saveAsTable(\"bronze_erp.bronze_px_cat_g1v2\")"
   ]
  }
 ],
 "metadata": {
  "application/vnd.databricks.v1+notebook": {
   "computePreferences": null,
   "dashboards": [],
   "environmentMetadata": {
    "base_environment": "",
    "environment_version": "2"
   },
   "inputWidgetPreferences": null,
   "language": "sql",
   "notebookMetadata": {
    "pythonIndentUnit": 4
   },
   "notebookName": "bronze",
   "widgets": {}
  },
  "language_info": {
   "name": "sql"
  }
 },
 "nbformat": 4,
 "nbformat_minor": 0
}
