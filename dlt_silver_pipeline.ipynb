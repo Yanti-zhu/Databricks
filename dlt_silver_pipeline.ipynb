{
 "cells": [
  {
   "cell_type": "code",
   "execution_count": 0,
   "metadata": {
    "application/vnd.databricks.v1+cell": {
     "cellMetadata": {},
     "inputWidgets": {},
     "nuid": "239eb6d9-d328-40ce-92c5-f2baa61d977f",
     "showTitle": false,
     "tableResultSettingsMap": {},
     "title": ""
    }
   },
   "outputs": [],
   "source": [
    "import dlt\n",
    "from pyspark.sql.functions import *\n",
    "\n",
    "# -----------------------------\n",
    "# Silver Table: CRM - cust_info\n",
    "# -----------------------------\n",
    "@dlt.table(name=\"silver_crm_cust_info\", comment=\"Cleaned CRM customer info\")\n",
    "def silver_crm_cust_info():\n",
    "    df = dlt.read(\"bronze_crm_cust_info\")\n",
    "    return (\n",
    "        df.filter(col(\"cst_id\").isNotNull())\n",
    "          .withColumn(\"cst_firstname\", trim(col(\"cst_firstname\")))\n",
    "          .withColumn(\"cst_lastname\", trim(col(\"cst_lastname\")))\n",
    "          .withColumn(\"cst_marital_status\", when(upper(trim(col(\"cst_marital_status\"))) == 'S', 'Single')\n",
    "                                             .when(upper(trim(col(\"cst_marital_status\"))) == 'M', 'Married')\n",
    "                                             .otherwise('n/a'))\n",
    "          .withColumn(\"cst_gndr\", when(upper(trim(col(\"cst_gndr\"))) == 'F', 'Female')\n",
    "                                  .when(upper(trim(col(\"cst_gndr\"))) == 'M', 'Male')\n",
    "                                  .otherwise('n/a'))\n",
    "    )\n",
    "\n",
    "# -----------------------------\n",
    "# Silver Table: CRM - prd_info\n",
    "# -----------------------------\n",
    "@dlt.table(name=\"silver_crm_prd_info\", comment=\"Cleaned CRM product info\")\n",
    "def silver_crm_prd_info():\n",
    "    df = dlt.read(\"bronze_crm_prd_info\")\n",
    "    return (\n",
    "        df.withColumn(\"cat_id\", regexp_replace(substring(col(\"prd_key\"), 1, 5), \"-\", \"_\"))\n",
    "          .withColumn(\"prd_key\", substring(col(\"prd_key\"), 7, length(col(\"prd_key\"))))\n",
    "          .withColumn(\"prd_cost\", coalesce(col(\"prd_cost\"), lit(0)))\n",
    "          .withColumn(\"prd_line\", when(upper(trim(col(\"prd_line\"))) == 'M', 'Mountain')\n",
    "                                  .when(upper(trim(col(\"prd_line\"))) == 'R', 'Road')\n",
    "                                  .when(upper(trim(col(\"prd_line\"))) == 'S', 'Other Sales')\n",
    "                                  .when(upper(trim(col(\"prd_line\"))) == 'T', 'Touring')\n",
    "                                  .otherwise('n/a'))\n",
    "    )\n",
    "\n",
    "# -----------------------------\n",
    "# Silver Table: CRM - sales_details\n",
    "# -----------------------------\n",
    "@dlt.table(name=\"silver_crm_sales_details\", comment=\"Cleaned CRM sales details\")\n",
    "def silver_crm_sales_details():\n",
    "    df = dlt.read(\"bronze_crm_sales_details\")\n",
    "    return df\n",
    "\n",
    "# -----------------------------\n",
    "# Silver Table: ERP - cust_az12\n",
    "# -----------------------------\n",
    "@dlt.table(name=\"silver_erp_cust_az12\", comment=\"Cleaned ERP customer az12\")\n",
    "def silver_erp_cust_az12():\n",
    "    df = dlt.read(\"bronze_erp_cust_az12\")\n",
    "    return df.withColumnRenamed(\"CID\", \"cid\")\n",
    "\n",
    "# -----------------------------\n",
    "# Silver Table: ERP - loc_a101\n",
    "# -----------------------------\n",
    "@dlt.table(name=\"silver_erp_loc_a101\", comment=\"Cleaned ERP location a101\")\n",
    "def silver_erp_loc_a101():\n",
    "    df = dlt.read(\"bronze_erp_loc_a101\")\n",
    "    return df.withColumnRenamed(\"CID\", \"cid\")\n",
    "\n",
    "# -----------------------------\n",
    "# Silver Table: ERP - px_cat_g1v2\n",
    "# -----------------------------\n",
    "@dlt.table(name=\"silver_erp_px_cat_g1v2\", comment=\"Cleaned ERP px cat g1v2\")\n",
    "def silver_erp_px_cat_g1v2():\n",
    "    df = dlt.read(\"bronze_erp_px_cat_g1v2\")\n",
    "    return df\n"
   ]
  }
 ],
 "metadata": {
  "application/vnd.databricks.v1+notebook": {
   "computePreferences": null,
   "dashboards": [],
   "environmentMetadata": {
    "base_environment": "",
    "environment_version": "2"
   },
   "inputWidgetPreferences": null,
   "language": "python",
   "notebookMetadata": {
    "pythonIndentUnit": 4
   },
   "notebookName": "dlt_silver_pipeline",
   "widgets": {}
  },
  "language_info": {
   "name": "python"
  }
 },
 "nbformat": 4,
 "nbformat_minor": 0
}
