{
 "cells": [
  {
   "cell_type": "code",
   "execution_count": 0,
   "metadata": {
    "application/vnd.databricks.v1+cell": {
     "cellMetadata": {
      "byteLimit": 2048000,
      "rowLimit": 10000
     },
     "inputWidgets": {},
     "nuid": "bce8e84e-ba64-4f0b-9375-798cadf04a93",
     "showTitle": false,
     "tableResultSettingsMap": {},
     "title": ""
    }
   },
   "outputs": [],
   "source": [
    "-- Set context\n",
    "USE CATALOG workspace;\n",
    "USE SCHEMA gold;\n"
   ]
  },
  {
   "cell_type": "code",
   "execution_count": 0,
   "metadata": {
    "application/vnd.databricks.v1+cell": {
     "cellMetadata": {
      "byteLimit": 2048000,
      "rowLimit": 10000
     },
     "inputWidgets": {},
     "nuid": "b89f1912-ece6-4a9a-b859-31ffc89078ba",
     "showTitle": true,
     "tableResultSettingsMap": {},
     "title": "customer_view"
    }
   },
   "outputs": [],
   "source": [
    "-- VIEW 1: Customer Dimension\n",
    "CREATE OR REPLACE VIEW dim_customers AS\n",
    "SELECT\n",
    "  ROW_NUMBER() OVER (ORDER BY ci.cst_id) AS customer_key, -- surrogate key\n",
    "  ci.cst_id AS customer_id,\n",
    "  ci.cst_key AS customer_number,\n",
    "  ci.cst_firstname AS first_name,\n",
    "  ci.cst_lastname AS last_name,\n",
    "  la.cntry AS country,\n",
    "  ci.cst_marital_status AS marital_status,\n",
    "  CASE \n",
    "    WHEN ci.cst_gndr != 'n/a' THEN ci.cst_gndr \n",
    "    ELSE COALESCE(ca.gen, 'n/a') \n",
    "  END AS gender,\n",
    "  ca.bdate AS birthdate,\n",
    "  ci.cst_create_date AS create_date\n",
    "FROM silver_crm.silver_crm_cust_info ci\n",
    "LEFT JOIN silver_erp.silver_erp_cust_az12 ca\n",
    "  ON TRIM(UPPER(ci.cst_key)) = TRIM(UPPER(ca.cid))\n",
    "LEFT JOIN silver_erp.silver_erp_loc_a101 la\n",
    "  ON TRIM(UPPER(ci.cst_key)) = TRIM(UPPER(la.cid));"
   ]
  },
  {
   "cell_type": "code",
   "execution_count": 0,
   "metadata": {
    "application/vnd.databricks.v1+cell": {
     "cellMetadata": {
      "byteLimit": 2048000,
      "rowLimit": 10000
     },
     "inputWidgets": {},
     "nuid": "f224ff1d-8c17-4204-a915-4fe1e011a608",
     "showTitle": false,
     "tableResultSettingsMap": {},
     "title": ""
    }
   },
   "outputs": [],
   "source": [
    "SELECT * FROM gold.dim_customers LIMIT 10;"
   ]
  },
  {
   "cell_type": "code",
   "execution_count": 0,
   "metadata": {
    "application/vnd.databricks.v1+cell": {
     "cellMetadata": {
      "byteLimit": 2048000,
      "rowLimit": 10000
     },
     "inputWidgets": {},
     "nuid": "554eb256-2d61-4f28-95cd-9b57efa9811f",
     "showTitle": true,
     "tableResultSettingsMap": {},
     "title": "product_view"
    }
   },
   "outputs": [],
   "source": [
    "-- VIEW 2: Product Dimension\n",
    "CREATE OR REPLACE VIEW dim_products AS\n",
    "SELECT\n",
    "  ROW_NUMBER () OVER (ORDER BY pn.prd_start_dt, pn.prd_key) AS product_key,\n",
    "  pn.prd_id AS product_id,\n",
    "  pn.prd_key AS product_number,\n",
    "  pn.prd_nm AS product_name,\n",
    "  pn.cat_id AS category_id,\n",
    "  pc.cat AS category,\n",
    "  pc.subcat AS subcategory,\n",
    "  pc.maintenance,\n",
    "  pn.prd_cost AS cost,\n",
    "  pn.prd_line AS product_line,\n",
    "  pn.prd_start_dt AS start_date\n",
    "FROM silver_crm.silver_crm_prd_info pn\n",
    "LEFT JOIN silver_erp.silver_erp_px_cat_g1v2 pc\n",
    "  ON TRIM(UPPER(pn.cat_id)) = TRIM(UPPER(pc.id))\n",
    "WHERE pn.prd_end_dt IS NULL;"
   ]
  },
  {
   "cell_type": "code",
   "execution_count": 0,
   "metadata": {
    "application/vnd.databricks.v1+cell": {
     "cellMetadata": {
      "byteLimit": 2048000,
      "rowLimit": 10000
     },
     "inputWidgets": {},
     "nuid": "027e7be1-4592-4b5b-a4df-a975300de877",
     "showTitle": true,
     "tableResultSettingsMap": {},
     "title": "sales_view"
    }
   },
   "outputs": [],
   "source": [
    "-- VIEW 3: Sales Fact Table\n",
    "CREATE OR REPLACE VIEW fact_sales AS\n",
    "SELECT\n",
    "  sd.sls_ord_num AS order_number,\n",
    "  pr.product_key,\n",
    "  cu.customer_key,\n",
    "  sd.sls_order_dt AS order_date,\n",
    "  sd.sls_ship_dt AS shipping_date,\n",
    "  sd.sls_due_dt AS due_date,\n",
    "  sd.sls_sales AS sales_amount,\n",
    "  sd.sls_quantity AS quantity,\n",
    "  sd.sls_price AS price\n",
    "FROM silver_crm.silver_crm_sales_details sd\n",
    "LEFT JOIN dim_products pr\n",
    "  ON TRIM(UPPER(sd.sls_prd_key)) = TRIM(UPPER(pr.product_number))\n",
    "LEFT JOIN dim_customers cu\n",
    "  ON TRIM(UPPER(sd.sls_cust_id)) = TRIM(UPPER(cu.customer_number));"
   ]
  },
  {
   "cell_type": "code",
   "execution_count": 0,
   "metadata": {
    "application/vnd.databricks.v1+cell": {
     "cellMetadata": {
      "byteLimit": 2048000,
      "rowLimit": 10000
     },
     "inputWidgets": {},
     "nuid": "577e6a1f-c4bd-44fc-a13d-25d9b58fc6c6",
     "showTitle": false,
     "tableResultSettingsMap": {},
     "title": ""
    }
   },
   "outputs": [],
   "source": [
    "DESCRIBE TABLE silver_crm.silver_crm_sales_details;"
   ]
  },
  {
   "cell_type": "code",
   "execution_count": 0,
   "metadata": {
    "application/vnd.databricks.v1+cell": {
     "cellMetadata": {
      "byteLimit": 2048000,
      "rowLimit": 10000
     },
     "inputWidgets": {},
     "nuid": "4d7c8e67-ea7d-4799-a696-c025dbeccc26",
     "showTitle": true,
     "tableResultSettingsMap": {},
     "title": "troubleshoot_col_name"
    }
   },
   "outputs": [],
   "source": [
    "SELECT * FROM fact_sales LIMIT 10;"
   ]
  },
  {
   "cell_type": "code",
   "execution_count": 0,
   "metadata": {
    "application/vnd.databricks.v1+cell": {
     "cellMetadata": {
      "byteLimit": 2048000,
      "rowLimit": 10000
     },
     "inputWidgets": {},
     "nuid": "74909b94-66ba-4821-9085-280757f62bfa",
     "showTitle": true,
     "tableResultSettingsMap": {},
     "title": "validation_3_views_should_return_nothing"
    }
   },
   "outputs": [],
   "source": [
    "-- VALIDATION: Join check\n",
    "SELECT *\n",
    "FROM fact_sales f\n",
    "LEFT JOIN dim_customers c ON f.customer_key = c.customer_key\n",
    "LEFT JOIN dim_products p ON f.product_key = p.product_key\n",
    "WHERE p.product_key IS NULL;"
   ]
  },
  {
   "cell_type": "code",
   "execution_count": 0,
   "metadata": {
    "application/vnd.databricks.v1+cell": {
     "cellMetadata": {
      "byteLimit": 2048000,
      "rowLimit": 10000
     },
     "inputWidgets": {},
     "nuid": "a9572ae5-af2b-41f2-80e1-0ef057c33d7a",
     "showTitle": false,
     "tableResultSettingsMap": {},
     "title": ""
    }
   },
   "outputs": [],
   "source": [
    "SELECT *\n",
    "FROM fact_sales f\n",
    "LEFT JOIN dim_customers c ON f.customer_key = c.customer_key\n",
    "WHERE c.customer_key IS NULL;"
   ]
  }
 ],
 "metadata": {
  "application/vnd.databricks.v1+notebook": {
   "computePreferences": null,
   "dashboards": [],
   "environmentMetadata": {
    "base_environment": "",
    "environment_version": "2"
   },
   "inputWidgetPreferences": null,
   "language": "sql",
   "notebookMetadata": {
    "pythonIndentUnit": 4
   },
   "notebookName": "gold",
   "widgets": {}
  },
  "language_info": {
   "name": "sql"
  }
 },
 "nbformat": 4,
 "nbformat_minor": 0
}
