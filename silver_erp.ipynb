{
 "cells": [
  {
   "cell_type": "code",
   "execution_count": 0,
   "metadata": {
    "application/vnd.databricks.v1+cell": {
     "cellMetadata": {
      "byteLimit": 2048000,
      "rowLimit": 10000
     },
     "inputWidgets": {},
     "nuid": "4d2e7170-7261-46d7-baf8-cab56af49bfc",
     "showTitle": false,
     "tableResultSettingsMap": {},
     "title": ""
    }
   },
   "outputs": [],
   "source": [
    "%sql\n",
    "CREATE TABLE IF NOT EXISTS silver_erp.silver_erp_cust_az12 (\n",
    "  cid STRING,\n",
    "  bdate DATE,\n",
    "  gen STRING\n",
    ");"
   ]
  },
  {
   "cell_type": "code",
   "execution_count": 0,
   "metadata": {
    "application/vnd.databricks.v1+cell": {
     "cellMetadata": {
      "byteLimit": 2048000,
      "rowLimit": 10000
     },
     "inputWidgets": {},
     "nuid": "1c1856e8-28b4-4d55-a382-52182feb52ef",
     "showTitle": false,
     "tableResultSettingsMap": {},
     "title": ""
    }
   },
   "outputs": [],
   "source": [
    "%sql\n",
    "INSERT INTO silver_erp.silver_erp_cust_az12 (\n",
    "  cid,\n",
    "  bdate,\n",
    "  gen\n",
    ")\n",
    "SELECT\n",
    "  CASE \n",
    "    WHEN cid LIKE 'NAS%' THEN SUBSTRING(cid, 4, LENGTH(cid)) \n",
    "    ELSE cid \n",
    "  END AS cid,\n",
    "\n",
    "  CASE \n",
    "    WHEN bdate > CURRENT_DATE THEN NULL \n",
    "    ELSE bdate \n",
    "  END AS bdate,\n",
    "\n",
    "  CASE \n",
    "    WHEN UPPER(TRIM(gen)) IN ('F', 'FEMALE') THEN 'Female'\n",
    "    WHEN UPPER(TRIM(gen)) IN ('M', 'MALE') THEN 'Male'\n",
    "    ELSE 'n/a' \n",
    "  END AS gen\n",
    "\n",
    "FROM bronze_erp.bronze_cust_az12;"
   ]
  },
  {
   "cell_type": "code",
   "execution_count": 0,
   "metadata": {
    "application/vnd.databricks.v1+cell": {
     "cellMetadata": {
      "byteLimit": 2048000,
      "rowLimit": 10000
     },
     "inputWidgets": {},
     "nuid": "40607b06-1a94-4ad7-8ea1-f227a00fb650",
     "showTitle": false,
     "tableResultSettingsMap": {},
     "title": ""
    }
   },
   "outputs": [],
   "source": [
    "%sql\n",
    "SELECT COUNT(*) FROM silver_erp.silver_erp_cust_az12;\n",
    "SELECT * FROM silver_erp.silver_erp_cust_az12 LIMIT 10;"
   ]
  },
  {
   "cell_type": "code",
   "execution_count": 0,
   "metadata": {
    "application/vnd.databricks.v1+cell": {
     "cellMetadata": {
      "byteLimit": 2048000,
      "rowLimit": 10000
     },
     "inputWidgets": {},
     "nuid": "82028e6f-a416-461b-be85-dd2ec0095e56",
     "showTitle": false,
     "tableResultSettingsMap": {},
     "title": ""
    }
   },
   "outputs": [],
   "source": [
    "%sql\n",
    "CREATE TABLE IF NOT EXISTS silver_erp.silver_erp_loc_a101 (\n",
    "  cid STRING,\n",
    "  cntry STRING\n",
    ");"
   ]
  },
  {
   "cell_type": "code",
   "execution_count": 0,
   "metadata": {
    "application/vnd.databricks.v1+cell": {
     "cellMetadata": {
      "byteLimit": 2048000,
      "rowLimit": 10000
     },
     "inputWidgets": {},
     "nuid": "aebac708-d6c6-433f-bb69-472441d59bd1",
     "showTitle": false,
     "tableResultSettingsMap": {},
     "title": ""
    }
   },
   "outputs": [],
   "source": [
    "%sql\n",
    "INSERT INTO silver_erp.silver_erp_loc_a101 (\n",
    "  cid,\n",
    "  cntry\n",
    ")\n",
    "SELECT\n",
    "  REPLACE(cid, '-', '') AS cid,\n",
    "  CASE \n",
    "    WHEN TRIM(cntry) IN ('US', 'USA') THEN 'United States'\n",
    "    WHEN TRIM(cntry) = 'DE' THEN 'Germany'\n",
    "    WHEN TRIM(cntry) = '' OR cntry IS NULL THEN 'n/a'\n",
    "    ELSE TRIM(cntry)\n",
    "  END AS cntry\n",
    "FROM bronze_erp.bronze_loc_a101;"
   ]
  },
  {
   "cell_type": "code",
   "execution_count": 0,
   "metadata": {
    "application/vnd.databricks.v1+cell": {
     "cellMetadata": {
      "byteLimit": 2048000,
      "rowLimit": 10000
     },
     "inputWidgets": {},
     "nuid": "2aa3fcf4-a0a9-41fa-857a-1873c8ce85e9",
     "showTitle": false,
     "tableResultSettingsMap": {},
     "title": ""
    }
   },
   "outputs": [],
   "source": [
    "%sql\n",
    "SELECT COUNT(*) FROM silver_erp.silver_erp_loc_a101;\n",
    "SELECT * FROM silver_erp.silver_erp_loc_a101 LIMIT 10;"
   ]
  },
  {
   "cell_type": "code",
   "execution_count": 0,
   "metadata": {
    "application/vnd.databricks.v1+cell": {
     "cellMetadata": {
      "byteLimit": 2048000,
      "rowLimit": 10000
     },
     "inputWidgets": {},
     "nuid": "450af3f7-4f26-4dc6-a194-1f063bf6a947",
     "showTitle": false,
     "tableResultSettingsMap": {},
     "title": ""
    }
   },
   "outputs": [],
   "source": [
    "%sql\n",
    "CREATE TABLE IF NOT EXISTS silver_erp.silver_erp_px_cat_g1v2 (\n",
    "  id STRING,\n",
    "  cat STRING,\n",
    "  subcat STRING,\n",
    "  maintenance STRING\n",
    ");"
   ]
  },
  {
   "cell_type": "code",
   "execution_count": 0,
   "metadata": {
    "application/vnd.databricks.v1+cell": {
     "cellMetadata": {
      "byteLimit": 2048000,
      "rowLimit": 10000
     },
     "inputWidgets": {},
     "nuid": "acc60640-0dbf-48ae-b130-58fec6b0e4ee",
     "showTitle": false,
     "tableResultSettingsMap": {},
     "title": ""
    }
   },
   "outputs": [],
   "source": [
    "%sql\n",
    "INSERT INTO silver_erp.silver_erp_px_cat_g1v2 (\n",
    "  id,\n",
    "  cat,\n",
    "  subcat,\n",
    "  maintenance\n",
    ")\n",
    "SELECT\n",
    "  id,\n",
    "  cat,\n",
    "  subcat,\n",
    "  maintenance\n",
    "FROM bronze_erp.bronze_px_cat_g1v2;"
   ]
  },
  {
   "cell_type": "code",
   "execution_count": 0,
   "metadata": {
    "application/vnd.databricks.v1+cell": {
     "cellMetadata": {
      "byteLimit": 2048000,
      "rowLimit": 10000
     },
     "inputWidgets": {},
     "nuid": "95d4de59-338e-4ecf-9fe7-5405035fc611",
     "showTitle": false,
     "tableResultSettingsMap": {},
     "title": ""
    }
   },
   "outputs": [],
   "source": [
    "%sql\n",
    "SELECT COUNT(*) FROM silver_erp.silver_erp_px_cat_g1v2;\n",
    "SELECT * FROM silver_erp.silver_erp_px_cat_g1v2 LIMIT 10;"
   ]
  }
 ],
 "metadata": {
  "application/vnd.databricks.v1+notebook": {
   "computePreferences": null,
   "dashboards": [],
   "environmentMetadata": {
    "base_environment": "",
    "environment_version": "2"
   },
   "inputWidgetPreferences": null,
   "language": "sql",
   "notebookMetadata": {
    "pythonIndentUnit": 4
   },
   "notebookName": "silver_erp",
   "widgets": {}
  },
  "language_info": {
   "name": "sql"
  }
 },
 "nbformat": 4,
 "nbformat_minor": 0
}
